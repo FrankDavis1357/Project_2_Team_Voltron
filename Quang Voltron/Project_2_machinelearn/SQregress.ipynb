{
 "metadata": {
  "language_info": {
   "codemirror_mode": {
    "name": "ipython",
    "version": 3
   },
   "file_extension": ".py",
   "mimetype": "text/x-python",
   "name": "python",
   "nbconvert_exporter": "python",
   "pygments_lexer": "ipython3",
   "version": "3.8.5"
  },
  "orig_nbformat": 4,
  "kernelspec": {
   "name": "python3",
   "display_name": "Python 3.8.5 64-bit ('base': conda)"
  },
  "interpreter": {
   "hash": "e3d3bff687f703ad3928cf3e76d3a900c4f06b8bfc69a25eb31bc97c63177b9f"
  }
 },
 "nbformat": 4,
 "nbformat_minor": 2,
 "cells": [
  {
   "cell_type": "code",
   "execution_count": null,
   "metadata": {},
   "outputs": [],
   "source": [
    "import pandas as pd\n",
    "import numpy as np\n",
    "\n",
    "df = pd.read_csv(\"SQ.csv\")\n",
    "df = df.drop(columns=[\"Date\"])\n",
    "print (df)"
   ]
  },
  {
   "cell_type": "code",
   "execution_count": null,
   "metadata": {},
   "outputs": [],
   "source": [
    "X = df.to_numpy()\n",
    "print (X)"
   ]
  },
  {
   "cell_type": "code",
   "execution_count": null,
   "metadata": {},
   "outputs": [],
   "source": [
    "from sklearn.preprocessing import MinMaxScaler\n",
    "price = df[[\"Close\"]]\n",
    "scaler = MinMaxScaler(feature_range=(-1,1))\n",
    "Y = scaler.fit_transform(price[\"Close\"].values.reshape(-1,1))\n",
    "X = scaler.fit_transform(X)"
   ]
  },
  {
   "cell_type": "code",
   "execution_count": null,
   "metadata": {},
   "outputs": [],
   "source": [
    "print(X)\n",
    "#print(Y)"
   ]
  },
  {
   "cell_type": "code",
   "execution_count": null,
   "metadata": {},
   "outputs": [],
   "source": [
    "def split_data(X, Y, lookback, split_ratio):\n",
    "    \n",
    "    data = []\n",
    "\n",
    "    for index in range(len(X) - lookback): \n",
    "        data.append(X[index: index + lookback])\n",
    "\n",
    "    data = np.array(data);\n",
    "    test_set_size = int(np.round(split_ratio * data.shape[0]))\n",
    "    train_set_size = data.shape[0] - (test_set_size)\n",
    "    \n",
    "    x_train = data[:train_set_size,:]\n",
    "    y_train = Y[:train_set_size,:]\n",
    "    \n",
    "    x_test = data[train_set_size:,:]\n",
    "    y_test = Y[train_set_size:,:]\n",
    "    \n",
    "    return [x_train, y_train, x_test, y_test]\n",
    "\n",
    "lookback = 40 # sequence length\n",
    "split_ratio = 0.1\n",
    "x_train, y_train, x_test, y_test = split_data(X, Y, lookback, split_ratio)\n",
    "\n",
    "print(x_train.shape, y_train.shape)\n",
    "print(x_test.shape, y_test.shape)\n"
   ]
  },
  {
   "cell_type": "code",
   "execution_count": null,
   "metadata": {},
   "outputs": [],
   "source": [
    "import torch\n",
    "import torch.nn as nn\n",
    "\n",
    "x_train = torch.from_numpy(x_train).type(torch.Tensor)\n",
    "x_test = torch.from_numpy(x_test).type(torch.Tensor)\n",
    "y_train = torch.from_numpy(y_train).type(torch.Tensor)\n",
    "y_test = torch.from_numpy(y_test).type(torch.Tensor)\n",
    "\n",
    "input_dim = 6\n",
    "hidden_dim = 32\n",
    "num_layers = 2\n",
    "output_dim = 1\n",
    "num_epochs = 100\n",
    "\n",
    "learning_rate = 0.01\n",
    "\n",
    "class MyModel(nn.Module):\n",
    "    def __init__(self, input_dim, hidden_dim, num_layers, output_dim):\n",
    "        super(MyModel, self).__init__()\n",
    "        self.hidden_dim = hidden_dim\n",
    "        self.num_layers = num_layers\n",
    "        \n",
    "        self.lstm = nn.LSTM(input_dim, hidden_dim, num_layers, batch_first=True)\n",
    "        self.fc = nn.Linear(hidden_dim, output_dim)\n",
    "    def forward(self, x):\n",
    "        h0 = torch.zeros(self.num_layers, x.size(0), self.hidden_dim).requires_grad_()\n",
    "        c0 = torch.zeros(self.num_layers, x.size(0), self.hidden_dim).requires_grad_()\n",
    "        out, (hn, cn) = self.lstm(x, (h0.detach(), c0.detach()))\n",
    "        out = self.fc(out[:, -1, :]) \n",
    "        return out"
   ]
  },
  {
   "cell_type": "code",
   "execution_count": null,
   "metadata": {},
   "outputs": [],
   "source": [
    "model = MyModel(input_dim = input_dim, hidden_dim = hidden_dim, num_layers = num_layers, output_dim = output_dim)\n",
    "loss_func = torch.nn.MSELoss(reduction='mean')\n",
    "optimizer=torch.optim.Adam(model.parameters(), lr=learning_rate)"
   ]
  },
  {
   "cell_type": "code",
   "execution_count": null,
   "metadata": {},
   "outputs": [],
   "source": [
    "import time\n",
    "n_epochs = 100\n",
    "start_time=time.time()\n",
    "for e in range(n_epochs):\n",
    "  y_train_pred = model(x_train)\n",
    "  loss = loss_func(y_train_pred, y_train)\n",
    "  print(f\"Epoch: {e}\\tLoss: {loss.item()}\")\n",
    "  optimizer.zero_grad()\n",
    "  loss.backward()\n",
    "  optimizer.step()\n",
    "elapsed_time = time.time() - start_time\n",
    "print(f\"Total time for training: {elapsed_time}\")"
   ]
  },
  {
   "cell_type": "code",
   "execution_count": null,
   "metadata": {},
   "outputs": [],
   "source": [
    "# how do you use this on current data in order to get a predicted number?\n",
    "\n",
    "# feed current data into this model?"
   ]
  },
  {
   "cell_type": "code",
   "execution_count": null,
   "metadata": {},
   "outputs": [],
   "source": [
    "## Set Alpaca API key and secret\n",
    "alpaca_api_key = os.getenv(\"ALPACA_API_KEY\")\n",
    "alpaca_secret_key = os.getenv(\"ALPACA_SECRET_KEY\")\n",
    " \n",
    "api = tradeapi.REST(\n",
    "   alpaca_api_key,\n",
    "   alpaca_secret_key,\n",
    "   api_version = \"v2\"\n",
    ")\n",
    "# Set timeframe to '1D'\n",
    "timeframe = \"1D\"\n",
    "# Set start and end datetimes between now and 3 years ago.\n",
    "start_date = pd.Timestamp(\"2017-05-01\", tz=\"America/New_York\").isoformat()\n",
    "end_date = pd.Timestamp(\"2020-05-01\", tz=\"America/New_York\").isoformat()\n",
    "# Set the ticker information\n",
    "tickers = [\"MSFT\",\"KO\"]\n",
    "# Get 3 year's worth of historical price data for Microsoft and Coca-Cola\n",
    "df_ticker = api.get_barset(\n",
    "   tickers,\n",
    "   timeframe,\n",
    "   start=start_date,\n",
    "   end=end_date,\n",
    "   limit=1000,\n",
    ").df\n",
    "# Display sample data\n",
    "df_ticker.head()"
   ]
  }
 ]
}